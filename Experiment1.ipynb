{
 "cells": [
  {
   "cell_type": "markdown",
   "metadata": {},
   "source": [
    "notes"
   ]
  },
  {
   "cell_type": "code",
   "execution_count": null,
   "metadata": {},
   "outputs": [],
   "source": [
    "Objective:-\n",
    "\n",
    "WAP to implement the Perceptron Learning Algorithm using numpy in Python. \n",
    "Evaluate performance of a single perceptron for NAND and XOR truth tables as input dataset.\n",
    "    \n",
    "\n",
    "Model Description:\n",
    "\n",
    "The Perceptron is a single-layer neural network model used for binary classification tasks. \n",
    "It consists of a single layer of artificial neurons (also known as units or nodes).\n",
    "Each neuron performs a linear transformation on the input data, followed by a thresholding \n",
    "activation function that classifies the output into one of two possible classes.\n",
    "\n",
    "Model Architecture\n",
    "\n",
    "Input Layer: Accepts the input features (e.g., two binary values for XOR or NAND).\n",
    "\n",
    "Weights and Bias: Learnable parameters that are adjusted during training.\n",
    "\n",
    "Summation: Computes the weighted sum of inputs plus the bias.\n",
    "\n",
    "Activation Function: Uses a step function to classify the result into binary outputs (0 or 1).\n",
    "\n",
    "Output Layer: Produces the final prediction (0 or 1).\n",
    "\n",
    "Training: Iteratively updates weights using the Perceptron learning rule based on classification errors.\n",
    "\n",
    "Model Training (Perceptron Learning Algorithm):\n",
    "\n",
    "    Input: A training dataset with input-output pairs (features and corresponding labels).\n",
    "    Objective: Learn the weights and bias that minimize the classification error on the dataset.\n",
    "\n",
    "The Perceptron Learning Algorithm works as follows:\n",
    "\n",
    "Initialize the weights and bias to 0 or small random values.\n",
    "For each training sample:\n",
    "    Compute the predicted output using the summation and activation function.\n",
    "    Compare the predicted output with the true output (label).\n",
    "    If the prediction is incorrect (error), update the weights and bias using the following update rule:\n",
    "    wi←wi+η⋅error⋅xi\n",
    "    wi​←wi​+η⋅error⋅xi​\n",
    "    b←b+η⋅error\n",
    "    b←b+η⋅error where:\n",
    "        ηη is the learning rate (a small positive value that controls the magnitude of updates).\n",
    "        Error is the difference between the true label and the predicted output: \n",
    "error=true_label−predicted_labelerror=true_label−predicted_label.\n",
    "Repeat the training process for a number of epochs (iterations over the entire dataset) until the weights \n",
    "converge (i.e., no more errors or minimal errors occur)\n"
   ]
  },
  {
   "cell_type": "code",
   "execution_count": 13,
   "metadata": {},
   "outputs": [],
   "source": [
    "import numpy as np"
   ]
  },
  {
   "cell_type": "code",
   "execution_count": null,
   "metadata": {},
   "outputs": [],
   "source": [
    "\n",
    "class Perceptron:\n",
    "    def __init__(self, input_size, learning_rate=0.1, epochs=500):\n",
    "        self.weights = np.random.randn(input_size + 1)  # Including bias\n",
    "        self.learning_rate = learning_rate\n",
    "        self.epochs = epochs\n",
    "    \n",
    "    def activation(self, x):\n",
    "        return 1 if x >= 0 else 0\n",
    "    \n",
    "    def predict(self, x):\n",
    "        x = np.insert(x, 0, 1)  # Bias term\n",
    "        return self.activation(np.dot(self.weights, x))\n",
    "    \n",
    "    def train(self, X, y):\n",
    "        for _ in range(self.epochs):\n",
    "            for xi, target in zip(X, y):\n",
    "                xi = np.insert(xi, 0, 1)  # Adding bias term\n",
    "                output = self.activation(np.dot(self.weights, xi))\n",
    "                self.weights += self.learning_rate * (target - output) * xi\n",
    "\n",
    "    def evaluate(self, X, y):\n",
    "        predictions = [self.predict(xi) for xi in X]\n",
    "        accuracy = sum(p == t for p, t in zip(predictions, y)) / len(y)\n",
    "        return accuracy"
   ]
  },
  {
   "cell_type": "code",
   "execution_count": null,
   "metadata": {},
   "outputs": [],
   "source": [
    "# NAND Dataset\n",
    "nand_X = np.array([[0, 0], [0, 1], [1, 0], [1, 1]])\n",
    "nand_y = np.array([1, 1, 1, 0])  # NAND truth table\n",
    "\n",
    "# XOR Dataset\n",
    "xor_X = np.array([[0, 0], [0, 1], [1, 0], [1, 1]])\n",
    "xor_y = np.array([0, 1, 1, 0])"
   ]
  },
  {
   "cell_type": "code",
   "execution_count": null,
   "metadata": {},
   "outputs": [
    {
     "name": "stdout",
     "output_type": "stream",
     "text": [
      "NAND Perceptron Accuracy: 100.00%\n"
     ]
    }
   ],
   "source": [
    "# Train Perceptron for NAND\n",
    "nand_perceptron = Perceptron(input_size=2)\n",
    "nand_perceptron.train(nand_X, nand_y)\n",
    "nand_accuracy = nand_perceptron.evaluate(nand_X, nand_y)\n",
    "print(f\"NAND Perceptron Accuracy: {nand_accuracy * 100:.2f}%\")\n"
   ]
  },
  {
   "cell_type": "code",
   "execution_count": null,
   "metadata": {},
   "outputs": [
    {
     "name": "stdout",
     "output_type": "stream",
     "text": [
      "XOR Perceptron Accuracy: 25.00%\n"
     ]
    }
   ],
   "source": [
    "# Train Perceptron for XOR\n",
    "xor_perceptron = Perceptron(input_size=2)\n",
    "xor_perceptron.train(xor_X, xor_y)\n",
    "xor_accuracy = xor_perceptron.evaluate(xor_X, xor_y)\n",
    "print(f\"XOR Perceptron Accuracy: {xor_accuracy * 100:.2f}%\")"
   ]
  },
  {
   "cell_type": "markdown",
   "metadata": {},
   "source": [
    "\n",
    "NAND Perceptron Accuracy: 100.00%\n",
    "XOR Perceptron Accuracy: 50.00%\n",
    "Performance Evaluation: Performance for NAND:\n",
    "\n",
    "The perceptron correctly classifies the NAND truth table since it is linearly separable.\n",
    "Performance for XOR:\n",
    "\n",
    "The perceptron struggles with XOR since it is not linearly separable (the perceptron only works for linearly separable problems).\n",
    "Improvements:\n",
    "\n",
    "For XOR, you would need a more advanced model such as a neural network with hidden layers (MLP)."
   ]
  }
 ],
 "metadata": {
  "kernelspec": {
   "display_name": "Python 3",
   "language": "python",
   "name": "python3"
  },
  "language_info": {
   "codemirror_mode": {
    "name": "ipython",
    "version": 3
   },
   "file_extension": ".py",
   "mimetype": "text/x-python",
   "name": "python",
   "nbconvert_exporter": "python",
   "pygments_lexer": "ipython3",
   "version": "3.12.2"
  }
 },
 "nbformat": 4,
 "nbformat_minor": 2
}
