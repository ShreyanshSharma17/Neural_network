{
 "cells": [
  {
   "cell_type": "code",
   "execution_count": 1,
   "id": "375750d0",
   "metadata": {},
   "outputs": [],
   "source": [
    "import tensorflow as tf\n",
    "from tensorflow import keras\n",
    "from tensorflow.keras import layers, regularizers\n",
    "import numpy as np\n",
    "import matplotlib.pyplot as plt"
   ]
  },
  {
   "cell_type": "code",
   "execution_count": 3,
   "id": "3ff51dc2",
   "metadata": {},
   "outputs": [
    {
     "name": "stdout",
     "output_type": "stream",
     "text": [
      "Downloading data from https://storage.googleapis.com/tensorflow/tf-keras-datasets/train-labels-idx1-ubyte.gz\n",
      "\u001b[1m29515/29515\u001b[0m \u001b[32m━━━━━━━━━━━━━━━━━━━━\u001b[0m\u001b[37m\u001b[0m \u001b[1m0s\u001b[0m 2us/step\n",
      "Downloading data from https://storage.googleapis.com/tensorflow/tf-keras-datasets/train-images-idx3-ubyte.gz\n",
      "\u001b[1m26421880/26421880\u001b[0m \u001b[32m━━━━━━━━━━━━━━━━━━━━\u001b[0m\u001b[37m\u001b[0m \u001b[1m5s\u001b[0m 0us/step\n",
      "Downloading data from https://storage.googleapis.com/tensorflow/tf-keras-datasets/t10k-labels-idx1-ubyte.gz\n",
      "\u001b[1m5148/5148\u001b[0m \u001b[32m━━━━━━━━━━━━━━━━━━━━\u001b[0m\u001b[37m\u001b[0m \u001b[1m0s\u001b[0m 0s/step\n",
      "Downloading data from https://storage.googleapis.com/tensorflow/tf-keras-datasets/t10k-images-idx3-ubyte.gz\n",
      "\u001b[1m4422102/4422102\u001b[0m \u001b[32m━━━━━━━━━━━━━━━━━━━━\u001b[0m\u001b[37m\u001b[0m \u001b[1m1s\u001b[0m 0us/step\n"
     ]
    }
   ],
   "source": [
    "(x_train, y_train), (x_test, y_test) = keras.datasets.fashion_mnist.load_data()\n",
    "x_train, x_test = x_train / 255.0, x_test / 255.0  # Normalize pixel values\n",
    "x_train = x_train.reshape(-1, 28, 28, 1)\n",
    "x_test = x_test.reshape(-1, 28, 28, 1)"
   ]
  },
  {
   "cell_type": "code",
   "execution_count": 7,
   "id": "8f5fc90f",
   "metadata": {},
   "outputs": [],
   "source": [
    "def create_model(filter_size=3, regularization=0.001, optimizer='adam'):\n",
    "    model = keras.Sequential([\n",
    "        layers.Conv2D(32, (filter_size, filter_size), activation='relu', kernel_regularizer=regularizers.l2(regularization), input_shape=(28, 28, 1)),\n",
    "        layers.MaxPooling2D(2, 2),\n",
    "        layers.Conv2D(64, (filter_size, filter_size), activation='relu'),\n",
    "        layers.MaxPooling2D(2, 2),\n",
    "        layers.Flatten(),\n",
    "        layers.Dense(128, activation='relu', kernel_regularizer=regularizers.l2(regularization)),\n",
    "        layers.Dense(10, activation='softmax')\n",
    "    ])\n",
    "    model.compile(optimizer=optimizer, loss='sparse_categorical_crossentropy', metrics=['accuracy'])\n",
    "    return model"
   ]
  },
  {
   "cell_type": "code",
   "execution_count": 8,
   "id": "72fa7496",
   "metadata": {},
   "outputs": [],
   "source": [
    "filter_sizes = [3, 5]\n",
    "regularization_values = [0.001, 0.01]\n",
    "batch_sizes = [32, 64]\n",
    "optimizers = ['adam', 'sgd']"
   ]
  },
  {
   "cell_type": "code",
   "execution_count": 9,
   "id": "d5b2cd63",
   "metadata": {},
   "outputs": [
    {
     "name": "stdout",
     "output_type": "stream",
     "text": [
      "Training model with filter_size=3, reg=0.001, batch_size=32, optimizer=adam\n"
     ]
    },
    {
     "name": "stderr",
     "output_type": "stream",
     "text": [
      "c:\\Users\\sharm\\anaconda3\\envs\\nnproject\\Lib\\site-packages\\keras\\src\\layers\\convolutional\\base_conv.py:107: UserWarning: Do not pass an `input_shape`/`input_dim` argument to a layer. When using Sequential models, prefer using an `Input(shape)` object as the first layer in the model instead.\n",
      "  super().__init__(activity_regularizer=activity_regularizer, **kwargs)\n"
     ]
    },
    {
     "name": "stdout",
     "output_type": "stream",
     "text": [
      "Training model with filter_size=3, reg=0.001, batch_size=32, optimizer=sgd\n",
      "Training model with filter_size=3, reg=0.001, batch_size=64, optimizer=adam\n",
      "Training model with filter_size=3, reg=0.001, batch_size=64, optimizer=sgd\n",
      "Training model with filter_size=3, reg=0.01, batch_size=32, optimizer=adam\n",
      "Training model with filter_size=3, reg=0.01, batch_size=32, optimizer=sgd\n",
      "Training model with filter_size=3, reg=0.01, batch_size=64, optimizer=adam\n",
      "Training model with filter_size=3, reg=0.01, batch_size=64, optimizer=sgd\n",
      "Training model with filter_size=5, reg=0.001, batch_size=32, optimizer=adam\n",
      "Training model with filter_size=5, reg=0.001, batch_size=32, optimizer=sgd\n",
      "Training model with filter_size=5, reg=0.001, batch_size=64, optimizer=adam\n",
      "Training model with filter_size=5, reg=0.001, batch_size=64, optimizer=sgd\n",
      "Training model with filter_size=5, reg=0.01, batch_size=32, optimizer=adam\n",
      "Training model with filter_size=5, reg=0.01, batch_size=32, optimizer=sgd\n",
      "Training model with filter_size=5, reg=0.01, batch_size=64, optimizer=adam\n",
      "Training model with filter_size=5, reg=0.01, batch_size=64, optimizer=sgd\n"
     ]
    }
   ],
   "source": [
    "results = {}\n",
    "for filter_size in filter_sizes:\n",
    "    for reg in regularization_values:\n",
    "        for batch_size in batch_sizes:\n",
    "            for optimizer in optimizers:\n",
    "                print(f\"Training model with filter_size={filter_size}, reg={reg}, batch_size={batch_size}, optimizer={optimizer}\")\n",
    "                model = create_model(filter_size, reg, optimizer)\n",
    "                history = model.fit(x_train, y_train, epochs=10, batch_size=batch_size, validation_data=(x_test, y_test), verbose=0)\n",
    "                test_loss, test_acc = model.evaluate(x_test, y_test, verbose=0)\n",
    "                results[(filter_size, reg, batch_size, optimizer)] = (history, test_acc)"
   ]
  }
 ],
 "metadata": {
  "kernelspec": {
   "display_name": "nnproject",
   "language": "python",
   "name": "python3"
  },
  "language_info": {
   "codemirror_mode": {
    "name": "ipython",
    "version": 3
   },
   "file_extension": ".py",
   "mimetype": "text/x-python",
   "name": "python",
   "nbconvert_exporter": "python",
   "pygments_lexer": "ipython3",
   "version": "3.11.11"
  }
 },
 "nbformat": 4,
 "nbformat_minor": 5
}
